{
 "cells": [
  {
   "cell_type": "markdown",
   "metadata": {},
   "source": [
    "# Introduccion\n",
    "\n",
    "Primero lo que debemos entender de los árboles de decisión es la metodología CART (Clasificación y Arboles de Regresión por sus siglas en inglés)\n",
    "\n",
    "Esto abarca 2 tipos de árboles de decisiones los cuales tienen una tarea en especifico \n",
    "\n",
    "* Arboles de clasificación: se dedica a clasificar en categorías una determinada observación\n",
    "* Arboles de regresión: sirve para predecir valores "
   ]
  },
  {
   "cell_type": "markdown",
   "metadata": {},
   "source": [
    "# Como funciona\n",
    "Imaginemos que tenemos una nube de dispersión que representa nuestras observaciones reales de un dataframe\n",
    "Lo interesante es que tenemos que incluir 2 variables independientes x1, x2 el objetivo es tratar de predecir una tercera variable, una variable que depende de esas dos, y esto es así porque es una tabla bidimensional, aunque sería una proyección tridimensional, para facilitar la visualización y explicación lo haremos bidimensional\n",
    "\n",
    "![alt text](D1.png)\n",
    "\n",
    "Una vez ejecutado el algoritmo de árbol, los puntos quedaran divididos en varios segmentos\n",
    "\n",
    "![alt text](D2.png)\n",
    "\n",
    "Lo que hace el algoritmo es hacer divisiones que cada uno de los puntos de nuestra nube queda en uno de esos segmentos que tengan características en común\n",
    "\n",
    "Cada división o hoja aporta una información lo suficientemente buena para que la clasificación final tenga sentido\n",
    "\n",
    "Así que iremos paso a paso explicando el algoritmo...\n"
   ]
  },
  {
   "cell_type": "markdown",
   "metadata": {},
   "source": [
    "Primero el algoritmo verá el conjunto de datos, si X < 20 es la primera decisión y de ella tenemos dos soluciones \n",
    " ![alt text](E1.png)\n",
    "\n",
    "![alt text](Gr1.png)\n",
    "\n",
    "\n",
    " A continuación, con el conjunto de datos se elabora una división para partir el valor $x_2=170$ pero solo ocurre con el conjunto de puntos cuya $x_1 > 20$\n",
    " \n",
    " ![alt text](E2.png)\n"
   ]
  },
  {
   "cell_type": "markdown",
   "metadata": {},
   "source": []
  }
 ],
 "metadata": {
  "language_info": {
   "name": "python"
  },
  "orig_nbformat": 4
 },
 "nbformat": 4,
 "nbformat_minor": 2
}
